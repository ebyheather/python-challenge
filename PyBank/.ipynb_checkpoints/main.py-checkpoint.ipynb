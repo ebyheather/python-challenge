{
 "cells": [
  {
   "cell_type": "code",
   "execution_count": 9,
   "id": "f48c82c1-a1d9-46ff-a85f-526b119fc70d",
   "metadata": {},
   "outputs": [],
   "source": [
    "#Import budget_data CSV file\n",
    "import os\n",
    "import csv\n",
    "\n",
    "#Open the file path\n",
    "csvpath = os.path.join('Resources','budget_data.csv')"
   ]
  },
  {
   "cell_type": "code",
   "execution_count": 10,
   "id": "6cd03420-7315-4256-a51b-b39950908bfb",
   "metadata": {},
   "outputs": [
    {
     "name": "stdout",
     "output_type": "stream",
     "text": [
      "<_csv.reader object at 0x10c60a030>\n",
      "Financial Analysis\n",
      "\n",
      "---------------------------\n",
      "Total Months: 86\n",
      "Total: $22564198\n",
      "Average Change: $-8311.11\n",
      "Greatest Increase in Profits: Aug-16 ($1862002)\n",
      "Greatest Decrease in Profits: Feb-14 ($-1825558)\n"
     ]
    }
   ],
   "source": [
    "with open(csvpath) as csvfile:\n",
    "    csvreader = csv.reader(csvfile, delimiter=',')\n",
    "    print(csvreader)\n",
    "\n",
    "    #Skip the header row\n",
    "    header = next(csvreader)\n",
    "\n",
    "    #Store months from first column\n",
    "    unique_months = []\n",
    "    profits_losses = []\n",
    "    \n",
    "    #Iterate through the rows\n",
    "    for row in csvreader:\n",
    "        unique_months.append(row[0])\n",
    "        profits_losses.append(int(row[1]))\n",
    "        \n",
    "\n",
    "#Count unique values in month_data\n",
    "unique_count = len(unique_months)\n",
    "\n",
    "#Sum of total gains/losses\n",
    "total_sum = sum(profits_losses)\n",
    "\n",
    "#Print Financial Analysis and totals\n",
    "print(\"\"\"Financial Analysis\n",
    "\n",
    "---------------------------\"\"\")\n",
    "print(f'Total Months: {unique_count}')\n",
    "print(f'Total: ${total_sum}')\n",
    "\n",
    "#Find the difference in gains per row\n",
    "difference_gains = []\n",
    "\n",
    "for i in range(len(profits_losses)-1):\n",
    "    difference = profits_losses[i+1] - profits_losses[i]\n",
    "    difference_gains.append(difference)\n",
    "\n",
    "#Find the average difference\n",
    "difference_average = round(sum(difference_gains)/len(difference_gains),2)\n",
    "print(f'Average Change: ${difference_average}')\n",
    "\n",
    "#Find the max gain and max loss\n",
    "max_gain = max(difference_gains)\n",
    "gain_index = difference_gains.index(max_gain)+1\n",
    "gain_month = unique_months[gain_index]\n",
    "\n",
    "max_loss = min(difference_gains)\n",
    "loss_index = difference_gains.index(max_loss)+1\n",
    "loss_month = unique_months[loss_index]\n",
    "\n",
    "print(f'Greatest Increase in Profits: {gain_month} (${max_gain})')\n",
    "print(f'Greatest Decrease in Profits: {loss_month} (${max_loss})')"
   ]
  },
  {
   "cell_type": "code",
   "execution_count": 11,
   "id": "605723d5-355f-4c3a-8822-4cbec174b7ab",
   "metadata": {},
   "outputs": [
    {
     "name": "stdout",
     "output_type": "stream",
     "text": [
      "Results written to analysis/results.csv\n"
     ]
    }
   ],
   "source": [
    "#Write to CSV file\n",
    "output_path = os.path.join('analysis','results.csv')\n",
    "\n",
    "with open(output_path, mode='w', newline='') as file:\n",
    "    writer = csv.writer(file)\n",
    "    \n",
    "    # Write the header\n",
    "    writer.writerow([\"Financial Analysis\"])\n",
    "    writer.writerow([\"---------------------------\"])\n",
    "    \n",
    "    # Write the analysis results\n",
    "    writer.writerow(['Total Months', f'{unique_count}'])\n",
    "    writer.writerow(['Total', f'${total_sum}'])\n",
    "    writer.writerow(['Average Change', f'${difference_average}'])\n",
    "    writer.writerow(['Greatest Increase in Profits', f'{gain_month} (${max_gain})'])\n",
    "    writer.writerow(['Greatest Decrease in Profits', f'{loss_month} (${max_loss})'])\n",
    "\n",
    "print(f\"Results written to {output_path}\")"
   ]
  },
  {
   "cell_type": "code",
   "execution_count": null,
   "id": "73eaf815-4148-4285-8109-1e87c8b5d815",
   "metadata": {},
   "outputs": [],
   "source": []
  }
 ],
 "metadata": {
  "kernelspec": {
   "display_name": "Python 3 (ipykernel)",
   "language": "python",
   "name": "python3"
  },
  "language_info": {
   "codemirror_mode": {
    "name": "ipython",
    "version": 3
   },
   "file_extension": ".py",
   "mimetype": "text/x-python",
   "name": "python",
   "nbconvert_exporter": "python",
   "pygments_lexer": "ipython3",
   "version": "3.12.4"
  }
 },
 "nbformat": 4,
 "nbformat_minor": 5
}
