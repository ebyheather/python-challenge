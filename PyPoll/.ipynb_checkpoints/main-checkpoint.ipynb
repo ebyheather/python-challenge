{
 "cells": [
  {
   "cell_type": "code",
   "execution_count": 14,
   "id": "cf21de6b-57c0-4987-8bc4-57cce886a50a",
   "metadata": {
    "scrolled": true
   },
   "outputs": [
    {
     "name": "stdout",
     "output_type": "stream",
     "text": [
      "<_csv.reader object at 0x10cfeb4c0>\n",
      "Election Results\n",
      "--------------------------\n",
      "Total Votes: 369711\n",
      "--------------------------\n",
      "Charles Casper Stockham: 23.049% (85213)\n",
      "Diana DeGette: 73.812% (272892)\n",
      "Raymon Anthony Doane: 3.139% (11606)\n",
      "--------------------------\n",
      "Winner: Diana DeGette\n",
      "--------------------------\n"
     ]
    }
   ],
   "source": [
    "#Import the CSV file\n",
    "import os\n",
    "import csv\n",
    "\n",
    "csvpath = os.path.join('Resources','election_data.csv')\n",
    "\n",
    "with open(csvpath) as csvfile:\n",
    "    csvreader = csv.reader(csvfile,delimiter=',')\n",
    "    print(csvreader)\n",
    "\n",
    "    header = next(csvreader)\n",
    "\n",
    "    #Store the values\n",
    "    votes = []\n",
    "    candidates = set()\n",
    "    candidate_votes = []\n",
    "\n",
    "    #Iterate through the rows\n",
    "    for row in csvreader:\n",
    "        votes.append(row[0])\n",
    "        candidates.add(row[2])\n",
    "        candidate_votes.append(row[2])\n",
    "\n",
    "total_votes = len(votes)\n",
    "\n",
    "print(\"\"\"Election Results\n",
    "--------------------------\"\"\")\n",
    "print(f'Total Votes: {total_votes}')\n",
    "print(\"--------------------------\")\n",
    "\n",
    "candidate_counts = {value: candidate_votes.count(value) for value in candidates}\n",
    "max_votes = max(candidate_counts.values())\n",
    "\n",
    "for candidate in candidates:\n",
    "    vote_count = candidate_votes.count(candidate)\n",
    "    percentage_votes = (vote_count/total_votes)* 100\n",
    "    print(f'{candidate}: {percentage_votes:.3f}% ({vote_count})')\n",
    "\n",
    "    if vote_count == max_votes:\n",
    "        winner = candidate\n",
    "\n",
    "print(\"--------------------------\")\n",
    "print(f'Winner: {winner}')\n",
    "print(\"--------------------------\")"
   ]
  },
  {
   "cell_type": "code",
   "execution_count": 22,
   "id": "764c45ed-9636-473d-b8b5-d5e544e917f0",
   "metadata": {},
   "outputs": [
    {
     "name": "stdout",
     "output_type": "stream",
     "text": [
      "Results written to analysis/results.csv\n"
     ]
    }
   ],
   "source": [
    "#Write to a CSV file\n",
    "output_path = os.path.join('analysis','results.csv')\n",
    "\n",
    "with open(output_path, mode='w', newline='') as file:\n",
    "    writer = csv.writer(file)\n",
    "\n",
    "    #Write the contents\n",
    "    writer.writerow([\"Election Results\",\"Percentage of Votes\",\"Votes by Candidate\"])\n",
    "    writer.writerow([f'Total Votes: {total_votes}'])\n",
    "    writer.writerow([\"--------------------------\"])\n",
    "    \n",
    "    for candidate in candidates:\n",
    "        vote_count = candidate_votes.count(candidate)\n",
    "        percentage_votes = (vote_count/total_votes)* 100\n",
    "        writer.writerow([candidate,f'{percentage_votes:.3f}%',vote_count])\n",
    "        \n",
    "    writer.writerow([\"--------------------------\"])\n",
    "    writer.writerow([f'Winner: {winner}'])\n",
    "\n",
    "print(f'Results written to {output_path}')"
   ]
  },
  {
   "cell_type": "code",
   "execution_count": null,
   "id": "8f761b32-b78d-401d-bbb4-49b0fdb1153c",
   "metadata": {},
   "outputs": [],
   "source": []
  }
 ],
 "metadata": {
  "kernelspec": {
   "display_name": "Python 3 (ipykernel)",
   "language": "python",
   "name": "python3"
  },
  "language_info": {
   "codemirror_mode": {
    "name": "ipython",
    "version": 3
   },
   "file_extension": ".py",
   "mimetype": "text/x-python",
   "name": "python",
   "nbconvert_exporter": "python",
   "pygments_lexer": "ipython3",
   "version": "3.12.4"
  }
 },
 "nbformat": 4,
 "nbformat_minor": 5
}
